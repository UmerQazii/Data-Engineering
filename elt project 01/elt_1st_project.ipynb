{
 "cells": [
  {
   "cell_type": "code",
   "execution_count": 8,
   "id": "bb29b96b",
   "metadata": {},
   "outputs": [],
   "source": [
    "import requests\n",
    "from bs4 import BeautifulSoup\n",
    "import pandas as pd\n",
    "from io import StringIO\n",
    "from datetime import datetime"
   ]
  },
  {
   "cell_type": "code",
   "execution_count": 9,
   "id": "8d1eb027",
   "metadata": {},
   "outputs": [],
   "source": [
    "from datetime import datetime\n",
    "\n",
    "def log_progress(message):\n",
    "    with open('./code_log.txt', 'a') as f:\n",
    "        f.write(f'{datetime.now()}: {message}.\\n')"
   ]
  },
  {
   "cell_type": "code",
   "execution_count": 10,
   "id": "24803a04",
   "metadata": {},
   "outputs": [],
   "source": [
    "def extract(url, table_att):\n",
    "    soup = requests.get(url).text\n",
    "    web = BeautifulSoup(soup, 'html.parser')\n",
    "    table = web.find('span', string=table_att).find_next('table')\n",
    "    df = pd.read_html(StringIO(str(table)))[0]\n",
    "    \n",
    "    log_progress('Data Extracted successfully from Wikipedia')\n",
    "    \n",
    "    return df"
   ]
  },
  {
   "cell_type": "code",
   "execution_count": 11,
   "id": "a1e2d5a1",
   "metadata": {},
   "outputs": [],
   "source": [
    "import pandas as pd\n",
    "from datetime import datetime\n",
    "\n",
    "def log_progress(message):\n",
    "    with open('./code_log.txt', 'a') as f:\n",
    "        f.write(f'{datetime.now()}: {message}.\\n')\n",
    "\n",
    "def transformation(df, csv_path):\n",
    "    exchange_rate = pd.read_csv(csv_path, index_col=0).to_dict()['Rate']\n",
    "    \n",
    "    df['MC_GBP_Billion'] = round(df['Market cap (US$ Billion)'] * exchange_rate['GBP'], 2)\n",
    "    df['MC_EUR_Billion'] = round(df['Market cap (US$ Billion)'] * exchange_rate['EUR'], 2)\n",
    "    df['MC_INR_Billion'] = round(df['Market cap (US$ Billion)'] * exchange_rate['INR'], 2)\n",
    "    \n",
    "    print(df['MC_EUR_Billion'][4])\n",
    "    \n",
    "    log_progress('Data Transformation done now, Step 2 Complete.')\n",
    "    \n",
    "    return df"
   ]
  },
  {
   "cell_type": "code",
   "execution_count": 12,
   "id": "9153d1e5",
   "metadata": {},
   "outputs": [],
   "source": [
    "def load_to_csv(df, out_path):\n",
    "    df.to_csv(out_path, index=False)\n",
    "    log_progress('Data loaded into CSV File')"
   ]
  },
  {
   "cell_type": "code",
   "execution_count": 13,
   "id": "2179af62",
   "metadata": {},
   "outputs": [],
   "source": [
    "def load_to_db(df, sql_conn, tn):\n",
    "    df.to_sql(tn, sql_conn, if_exists='replace', index=False)\n",
    "    log_progress('Data loaded into the SQLite Database')"
   ]
  },
  {
   "cell_type": "code",
   "execution_count": 14,
   "id": "41a9c91f",
   "metadata": {},
   "outputs": [
    {
     "name": "stdout",
     "output_type": "stream",
     "text": [
      "   Rank                                Bank name  Market cap (US$ billion)\n",
      "0     1                           JPMorgan Chase                    432.92\n",
      "1     2                          Bank of America                    231.52\n",
      "2     3  Industrial and Commercial Bank of China                    194.56\n",
      "3     4               Agricultural Bank of China                    160.68\n",
      "4     5                                HDFC Bank                    157.91\n",
      "5     6                              Wells Fargo                    155.87\n",
      "6     7                        HSBC Holdings PLC                    148.90\n",
      "7     8                           Morgan Stanley                    140.83\n",
      "8     9                  China Construction Bank                    139.82\n",
      "9    10                            Bank of China                    136.81\n",
      "Columns in the DataFrame: ['Rank', 'Bank name', 'Market cap (US$ billion)']\n"
     ]
    },
    {
     "ename": "KeyError",
     "evalue": "\"Column 'Market cap (US$ Billion)' not found in DataFrame\"",
     "output_type": "error",
     "traceback": [
      "\u001b[1;31m---------------------------------------------------------------------------\u001b[0m",
      "\u001b[1;31mKeyError\u001b[0m                                  Traceback (most recent call last)",
      "Cell \u001b[1;32mIn[14], line 68\u001b[0m\n\u001b[0;32m     64\u001b[0m \u001b[38;5;28mprint\u001b[39m(df)\n\u001b[0;32m     66\u001b[0m \u001b[38;5;66;03m# Transform data\u001b[39;00m\n\u001b[1;32m---> 68\u001b[0m df \u001b[38;5;241m=\u001b[39m transformation(df, \u001b[38;5;124m'\u001b[39m\u001b[38;5;124m./input/exchange_rate.csv\u001b[39m\u001b[38;5;124m'\u001b[39m)\n\u001b[0;32m     69\u001b[0m log_progress(\u001b[38;5;124m'\u001b[39m\u001b[38;5;124mData Transformed successfully\u001b[39m\u001b[38;5;124m'\u001b[39m)\n\u001b[0;32m     70\u001b[0m \u001b[38;5;28mprint\u001b[39m(df)\n",
      "Cell \u001b[1;32mIn[14], line 41\u001b[0m, in \u001b[0;36mtransformation\u001b[1;34m(df, csv_path)\u001b[0m\n\u001b[0;32m     39\u001b[0m \u001b[38;5;28;01melse\u001b[39;00m:\n\u001b[0;32m     40\u001b[0m     log_progress(\u001b[38;5;124mf\u001b[39m\u001b[38;5;124m\"\u001b[39m\u001b[38;5;124mColumn \u001b[39m\u001b[38;5;124m'\u001b[39m\u001b[38;5;132;01m{\u001b[39;00mcolumn_name\u001b[38;5;132;01m}\u001b[39;00m\u001b[38;5;124m'\u001b[39m\u001b[38;5;124m not found in DataFrame\u001b[39m\u001b[38;5;124m\"\u001b[39m)\n\u001b[1;32m---> 41\u001b[0m     \u001b[38;5;28;01mraise\u001b[39;00m \u001b[38;5;167;01mKeyError\u001b[39;00m(\u001b[38;5;124mf\u001b[39m\u001b[38;5;124m\"\u001b[39m\u001b[38;5;124mColumn \u001b[39m\u001b[38;5;124m'\u001b[39m\u001b[38;5;132;01m{\u001b[39;00mcolumn_name\u001b[38;5;132;01m}\u001b[39;00m\u001b[38;5;124m'\u001b[39m\u001b[38;5;124m not found in DataFrame\u001b[39m\u001b[38;5;124m\"\u001b[39m)\n\u001b[0;32m     43\u001b[0m \u001b[38;5;28;01mreturn\u001b[39;00m df\n",
      "\u001b[1;31mKeyError\u001b[0m: \"Column 'Market cap (US$ Billion)' not found in DataFrame\""
     ]
    }
   ],
   "source": [
    "import requests\n",
    "from bs4 import BeautifulSoup\n",
    "import pandas as pd\n",
    "from io import StringIO\n",
    "from datetime import datetime\n",
    "import sqlite3\n",
    "\n",
    "def log_progress(message):\n",
    "    with open('./code_log.txt', 'a') as f:\n",
    "        f.write(f'{datetime.now()}: {message}.\\n')\n",
    "\n",
    "def extract(url, table_att):\n",
    "    soup = requests.get(url).text\n",
    "    web = BeautifulSoup(soup, 'html.parser')\n",
    "    table = web.find('span', string=table_att).find_next('table')\n",
    "    df = pd.read_html(StringIO(str(table)))[0]\n",
    "    \n",
    "    log_progress('Data Extracted successfully from Wikipedia')\n",
    "    \n",
    "    return df\n",
    "\n",
    "def transformation(df, csv_path):\n",
    "    # Print out the columns of the DataFrame to check for discrepancies\n",
    "    print(\"Columns in the DataFrame:\", df.columns.tolist())\n",
    "    \n",
    "    # Load exchange rates\n",
    "    exchange_rate = pd.read_csv(csv_path, index_col=0).to_dict()['Rate']\n",
    "    \n",
    "    # Ensure the column name matches exactly\n",
    "    column_name = 'Market cap (US$ Billion)'\n",
    "    if column_name in df.columns:\n",
    "        df['MC_GBP_Billion'] = round(df[column_name] * exchange_rate['GBP'], 2)\n",
    "        df['MC_EUR_Billion'] = round(df[column_name] * exchange_rate['EUR'], 2)\n",
    "        df['MC_INR_Billion'] = round(df[column_name] * exchange_rate['INR'], 2)\n",
    "        \n",
    "        print(df['MC_EUR_Billion'][4])\n",
    "        \n",
    "        log_progress('Data Transformation done now, Step 2 Complete.')\n",
    "    else:\n",
    "        log_progress(f\"Column '{column_name}' not found in DataFrame\")\n",
    "        raise KeyError(f\"Column '{column_name}' not found in DataFrame\")\n",
    "    \n",
    "    return df\n",
    "\n",
    "def load_to_csv(df, out_path):\n",
    "    df.to_csv(out_path, index=False)\n",
    "    log_progress('Data loaded into CSV File')\n",
    "\n",
    "def load_to_db(df, sql_conn, tn):\n",
    "    df.to_sql(tn, sql_conn, if_exists='replace', index=False)\n",
    "    log_progress('Data loaded into the SQLite Database')\n",
    "\n",
    "if __name__ == '__main__':\n",
    "    url = 'https://web.archive.org/web/20230908091635/https://en.wikipedia.org/wiki/List_of_largest_banks'\n",
    "    output_csv_path = './Largest_banks_data.csv'\n",
    "    database_name = 'Banks.db'\n",
    "    table_name = 'Largest_banks'\n",
    "    \n",
    "    log_progress('Preliminaries complete. Initiating ETL process')\n",
    "    \n",
    "    # Extract data\n",
    "    df = extract(url, 'By market capitalization')\n",
    "    log_progress('Extraction Complete')\n",
    "    print(df)\n",
    "    \n",
    "    # Transform data\n",
    "    \n",
    "    df = transformation(df, './input/exchange_rate.csv')\n",
    "    log_progress('Data Transformed successfully')\n",
    "    print(df)\n",
    "   \n",
    "    \n",
    "    # Load data to CSV\n",
    "    load_to_csv(df, output_csv_path)\n",
    "    log_progress('Data has been transformed and loaded to CSV')\n",
    "    \n",
    "    # Load data to SQLite database\n",
    "    with sqlite3.connect(database_name) as conn:\n",
    "        load_to_db(df, conn, table_name)\n",
    "    log_progress('DataFrame has been uploaded into SQLite Database successfully')"
   ]
  },
  {
   "cell_type": "code",
   "execution_count": null,
   "id": "522ea533",
   "metadata": {},
   "outputs": [],
   "source": []
  }
 ],
 "metadata": {
  "kernelspec": {
   "display_name": "Python 3 (ipykernel)",
   "language": "python",
   "name": "python3"
  },
  "language_info": {
   "codemirror_mode": {
    "name": "ipython",
    "version": 3
   },
   "file_extension": ".py",
   "mimetype": "text/x-python",
   "name": "python",
   "nbconvert_exporter": "python",
   "pygments_lexer": "ipython3",
   "version": "3.11.5"
  }
 },
 "nbformat": 4,
 "nbformat_minor": 5
}
